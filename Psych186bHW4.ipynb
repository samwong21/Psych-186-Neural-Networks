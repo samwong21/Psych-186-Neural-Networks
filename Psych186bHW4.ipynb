{
 "cells": [
  {
   "cell_type": "markdown",
   "id": "f615c19d",
   "metadata": {},
   "source": [
    "## Creating a Lateral Inhibition System"
   ]
  },
  {
   "cell_type": "markdown",
   "id": "452de38a",
   "metadata": {},
   "source": [
    "# "
   ]
  },
  {
   "cell_type": "markdown",
   "id": "700c3f4b",
   "metadata": {},
   "source": [
    "# "
   ]
  },
  {
   "cell_type": "code",
   "execution_count": 6,
   "id": "a23aa4b8",
   "metadata": {},
   "outputs": [],
   "source": [
    "import numpy as np\n",
    "import matplotlib.pyplot as plt\n",
    "\n",
    "# initialize variables\n",
    "dim = 80\n",
    "halfdim = 40\n",
    "num_iterations = 5\n",
    "length_constant = 2\n",
    "EPSILON = 0.1\n",
    "max_inhibition = 0.1\n",
    "\n",
    "\n",
    "def initialize_parameters():\n",
    "    global max_inhibition, length_constant, EPSILON\n",
    "    max_inhibition = float(input(\"Inhibitory Maximum Strength: \"))\n",
    "    max_inhibition = abs(MAX_STRENGTH)\n",
    "    length_constant = float(input(\"Inhibitory Length Constant: \"))\n",
    "    EPSILON = float(input(\"Epsilon: \"))\n",
    "\n",
    "\n",
    "\n",
    "#Build weight matrix\\\n",
    "def build_weight_matrix(dim, max_inhibition, length_constant):\n",
    "    dist_matrix = np.zeros((dim, dim))\n",
    "    halfdim = dim // 2\n",
    "    for i in range(dim):\n",
    "        for j in range(dim):\n",
    "            dist = abs(j - i)\n",
    "            if dist > halfdim:\n",
    "                dist = dim - dist\n",
    "            dist_matrix[i, j] = dist\n",
    "    weight_matrix = np.empty((dim, dim))\n",
    "    for i in range(dim):\n",
    "        for j in range(dim):\n",
    "            weight_matrix[i, j] = -(max_inhibition * np.exp(-(dist_matrix[i, j] / length_constant)))\n",
    "    return weight_matrix\n",
    "\n",
    "weight_mat = build_weight_matrix(dim, max_inhibition, length_constant)\n",
    "\n",
    "# Create initial state vector\n",
    "def build_initial_state_vector(dim, low, high):\n",
    "    initial_state_vector = np.zeros((dim, 1))\n",
    "    halfdim = dim // 2\n",
    "    initial_state_vector[:halfdim] = low\n",
    "    initial_state_vector[halfdim:] = high\n",
    "    return initial_state_vector\n",
    "\n",
    "initial_state_vector = build_initial_state_vector(dim, 10, 40)\n",
    "state_vector = np.copy(initial_state_vector)\n",
    "\n",
    "def compute_inhibited_state_vector(state_vector, inhibitory_weights, initial_state_vector, discreet_time_units, EPSILON):\n",
    "    new_state_vector = np.zeros(dim)\n",
    "    for t in range(discreet_time_units):\n",
    "        state_vector_copy = state_vector\n",
    "        for i in range(dim):\n",
    "            Sigma = 0\n",
    "            for j in range(dim):\n",
    "                eachsum = inhibitory_weights[j,i] * state_vector_copy[j]\n",
    "                Sigma = Sigma + eachsum\n",
    "            Sigma = Sigma + initial_state_vector[i] - state_vector_copy[i]\n",
    "            new_state_vector[i] = state_vector[i] + EPSILON * Sigma\n",
    "        state_vector = np.copy(new_state_vector)\n",
    "    return state_vector\n",
    "\n",
    "\n"
   ]
  },
  {
   "cell_type": "code",
   "execution_count": 14,
   "id": "39a3dbe4",
   "metadata": {},
   "outputs": [
    {
     "name": "stdout",
     "output_type": "stream",
     "text": [
      "[ 4.00856837  5.38701387  6.15280595  6.57800691  6.81397021  6.94484837\n",
      "  7.01740367  7.05760662  7.07987264  7.09219893  7.09901979  7.10279265\n",
      "  7.10487873  7.10603166  7.10666843  7.10701959  7.1072124   7.10731677\n",
      "  7.10737057  7.10739334  7.10739334  7.10737057  7.10731677  7.1072124\n",
      "  7.10701959  7.10666843  7.10603166  7.10487873  7.10279265  7.09901979\n",
      "  7.09219893  7.07987264  7.05760662  7.01740367  6.94484837  6.81397021\n",
      "  6.57800691  6.15280595  5.38701387  4.00856837 31.52871222 30.15026672\n",
      " 29.38447464 28.95927368 28.72331039 28.59243222 28.51987693 28.47967397\n",
      " 28.45740796 28.44508166 28.4382608  28.43448794 28.43240186 28.43124893\n",
      " 28.43061216 28.430261   28.43006819 28.42996383 28.42991002 28.42988725\n",
      " 28.42988725 28.42991002 28.42996383 28.43006819 28.430261   28.43061216\n",
      " 28.43124893 28.43240186 28.43448794 28.4382608  28.44508166 28.45740796\n",
      " 28.47967397 28.51987693 28.59243222 28.72331039 28.95927368 29.38447464\n",
      " 30.15026672 31.52871222]\n"
     ]
    }
   ],
   "source": [
    "state_vector = compute_inhibited_state_vector(state_vector, weight_mat, initial_state_vector, num_iterations, EPSILON)\n",
    "\n",
    "print(state_vector)"
   ]
  },
  {
   "cell_type": "code",
   "execution_count": 23,
   "id": "7b836d12",
   "metadata": {},
   "outputs": [
    {
     "name": "stdout",
     "output_type": "stream",
     "text": [
      "[ 4.00856837  5.38701387  6.15280595  6.57800691  6.81397021  6.94484837\n",
      "  7.01740367  7.05760662  7.07987264  7.09219893  7.09901979  7.10279265\n",
      "  7.10487873  7.10603166  7.10666843  7.10701959  7.1072124   7.10731677\n",
      "  7.10737057  7.10739334  7.10739334  7.10737057  7.10731677  7.1072124\n",
      "  7.10701959  7.10666843  7.10603166  7.10487873  7.10279265  7.09901979\n",
      "  7.09219893  7.07987264  7.05760662  7.01740367  6.94484837  6.81397021\n",
      "  6.57800691  6.15280595  5.38701387  4.00856837 31.52871222 30.15026672\n",
      " 29.38447464 28.95927368 28.72331039 28.59243222 28.51987693 28.47967397\n",
      " 28.45740796 28.44508166 28.4382608  28.43448794 28.43240186 28.43124893\n",
      " 28.43061216 28.430261   28.43006819 28.42996383 28.42991002 28.42988725\n",
      " 28.42988725 28.42991002 28.42996383 28.43006819 28.430261   28.43061216\n",
      " 28.43124893 28.43240186 28.43448794 28.4382608  28.44508166 28.45740796\n",
      " 28.47967397 28.51987693 28.59243222 28.72331039 28.95927368 29.38447464\n",
      " 30.15026672 31.52871222]\n"
     ]
    },
    {
     "data": {
      "image/png": "[encoded data removed]",
      "text/plain": [
       "<Figure size 432x288 with 1 Axes>"
      ]
     },
     "metadata": {
      "needs_background": "light"
     },
     "output_type": "display_data"
    }
   ],
   "source": [
    "print(state_vector)\n",
    "\n",
    "# Plot graph\\\n",
    "y = initial_state_vector\n",
    "x = range(dim)\n",
    "plt.plot(y,x, 'o',color=\"red\", label=\"initial state\")\n",
    "plt.legend(numpoints=1)\n",
    "plt.ylim(0,50)\n",
    "\n",
    "\n",
    "# Plot final State vector\n",
    "y = state_vector\n",
    "x = range(dim)\n",
    "plt.plot(y,x,'+',color=\"blue\", label=\"final state\")\n",
    "plt.legend(numpoints=1)\n",
    "plt.ylim(-10,100)\n",
    "plt.title(\"Maximum Inhibition 0.1, length constant 2\")\n",
    "plt.show()"
   ]
  }
 ],
 "metadata": {
  "kernelspec": {
   "display_name": "Python 3 (ipykernel)",
   "language": "python",
   "name": "python3"
  },
  "language_info": {
   "codemirror_mode": {
    "name": "ipython",
    "version": 3
   },
   "file_extension": ".py",
   "mimetype": "text/x-python",
   "name": "python",
   "nbconvert_exporter": "python",
   "pygments_lexer": "ipython3",
   "version": "3.9.7"
  }
 },
 "nbformat": 4,
 "nbformat_minor": 5
}
