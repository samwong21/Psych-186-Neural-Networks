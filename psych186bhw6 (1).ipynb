{
 "cells": [
  {
   "cell_type": "markdown",
   "id": "66bd2582",
   "metadata": {},
   "source": [
    "## Neural Network Simulation to perform parity judgement on input units"
   ]
  },
  {
   "cell_type": "markdown",
   "id": "32a8b45f",
   "metadata": {},
   "source": [
    "# "
   ]
  },
  {
   "cell_type": "markdown",
   "id": "d10047ff",
   "metadata": {},
   "source": [
    "# "
   ]
  },
  {
   "cell_type": "code",
   "execution_count": 1,
   "id": "ea024760",
   "metadata": {},
   "outputs": [],
   "source": [
    "import numpy as np\n",
    "import pandas as pd\n",
    "import random\n",
    "import math\n",
    "import matplotlib.pyplot as plt"
   ]
  },
  {
   "cell_type": "markdown",
   "id": "0b003967",
   "metadata": {},
   "source": [
    "# "
   ]
  },
  {
   "cell_type": "code",
   "execution_count": 2,
   "id": "c5d70f7b",
   "metadata": {},
   "outputs": [],
   "source": [
    "#3 determining desired output for each pattern\n",
    "def output(patterns):\n",
    "    out = []\n",
    "    for i in patterns:\n",
    "        x = np.mod(np.sum(i),2)\n",
    "        if x == 0:\n",
    "            out.append(1)\n",
    "        if x ==1:\n",
    "            out.append(0)\n",
    "    return out"
   ]
  },
  {
   "cell_type": "code",
   "execution_count": 3,
   "id": "8879fb4f",
   "metadata": {},
   "outputs": [],
   "source": [
    "#4 create a matrix connecting input to hidden units\n",
    "def wfg(num_hidden,num_input):\n",
    "    '''\n",
    "    num_input number of arrays with num_hidden number of elements\n",
    "    '''\n",
    "    out = []\n",
    "    for i in range(num_hidden):\n",
    "        out.append(np.random.uniform(-0.5,0.5,num_input))\n",
    "    return out"
   ]
  },
  {
   "cell_type": "code",
   "execution_count": 4,
   "id": "542f582c",
   "metadata": {},
   "outputs": [],
   "source": [
    "def wgh(num_hidden,num_output):\n",
    "    '''\n",
    "    num_hidden number of arrays with num_input number of elements\n",
    "    '''\n",
    "    out = []\n",
    "    for i in range(num_output):\n",
    "        out.append(np.random.uniform(-0.5,0.5,num_hidden))\n",
    "    return out"
   ]
  },
  {
   "cell_type": "code",
   "execution_count": 5,
   "id": "c0977911",
   "metadata": {},
   "outputs": [],
   "source": [
    "def activation_fn(x):\n",
    "     return 1 / (1+np.exp(-x))"
   ]
  },
  {
   "cell_type": "code",
   "execution_count": 6,
   "id": "472cbea8",
   "metadata": {},
   "outputs": [],
   "source": [
    "def activation_fn_derivative(input_to_hidden):\n",
    "    return np.exp(input_to_hidden) / (np.exp(input_to_hidden) + 1) ** 2"
   ]
  },
  {
   "cell_type": "code",
   "execution_count": 188,
   "id": "f00e0094",
   "metadata": {
    "scrolled": false
   },
   "outputs": [
    {
     "name": "stdout",
     "output_type": "stream",
     "text": [
      "Epoch: 0 || SSE: 1.8423598487169186\n",
      "Epoch: 10 || SSE: 1.4715970439957327\n",
      "Epoch: 20 || SSE: 1.13864496253712\n",
      "Epoch: 30 || SSE: 0.6651241151043994\n",
      "Epoch: 40 || SSE: 0.40071679016079226\n",
      "Epoch: 50 || SSE: 0.2948236162764526\n",
      "Epoch: 60 || SSE: 0.20118357485965505\n",
      "Epoch: 70 || SSE: 0.0922766581131301\n",
      "Epoch: 80 || SSE: 0.06204633426226764\n",
      "Epoch: 90 || SSE: 0.04923784898414285\n",
      "Epoch: 100 || SSE: 0.041641927972217885\n",
      "Epoch: 110 || SSE: 0.03650138797170384\n",
      "Epoch: 120 || SSE: 0.032747168463055955\n",
      "Epoch: 130 || SSE: 0.029863043992388844\n",
      "Epoch: 140 || SSE: 0.027565363907625273\n",
      "Epoch: 150 || SSE: 0.02568396134651261\n",
      "Epoch: 160 || SSE: 0.024109958245133963\n",
      "Epoch: 170 || SSE: 0.022770152440947062\n",
      "Epoch: 180 || SSE: 0.021613349112368403\n",
      "Epoch: 190 || SSE: 0.020602574251742424\n",
      "Epoch: 200 || SSE: 0.019710399821629775\n",
      "Epoch: 210 || SSE: 0.018916013027174668\n",
      "Epoch: 220 || SSE: 0.018203311055192965\n",
      "Epoch: 230 || SSE: 0.01755962352712231\n",
      "Epoch: 240 || SSE: 0.016974832656820385\n",
      "Epoch: 250 || SSE: 0.016440753011714264\n",
      "Epoch: 260 || SSE: 0.015950685209465645\n",
      "Epoch: 270 || SSE: 0.015499088866465319\n",
      "Epoch: 280 || SSE: 0.015081338998121281\n",
      "Epoch: 290 || SSE: 0.014693541899188969\n",
      "Epoch: 300 || SSE: 0.01433239412468628\n",
      "Epoch: 310 || SSE: 0.01399507317345739\n",
      "Epoch: 320 || SSE: 0.013679151810511969\n",
      "Epoch: 330 || SSE: 0.013382530236302427\n",
      "Epoch: 340 || SSE: 0.013103381885112135\n",
      "Epoch: 350 || SSE: 0.01284010974173362\n",
      "Epoch: 360 || SSE: 0.012591310855050001\n",
      "Epoch: 370 || SSE: 0.012355747297372273\n",
      "Epoch: 380 || SSE: 0.012132322235193522\n",
      "Epoch: 390 || SSE: 0.011920060085066554\n",
      "Epoch: 400 || SSE: 0.011718089958322386\n",
      "Epoch: 410 || SSE: 0.011525631771741738\n",
      "Epoch: 420 || SSE: 0.011341984533190816\n",
      "Epoch: 430 || SSE: 0.011166516412407207\n",
      "Epoch: 440 || SSE: 0.010998656285348504\n",
      "Epoch: 450 || SSE: 0.01083788650145628\n",
      "Epoch: 460 || SSE: 0.010683736670982541\n",
      "Epoch: 470 || SSE: 0.01053577830728119\n",
      "Epoch: 480 || SSE: 0.010393620188957118\n",
      "Epoch: 490 || SSE: 0.010256904330748294\n",
      "Epoch: 500 || SSE: 0.010125302471292202\n",
      "Epoch: 510 || SSE: 0.00999851300150989\n",
      "Epoch: 510 SSE: 0.00999851300150989\n",
      "Training Complete\n"
     ]
    },
    {
     "data": {
      "image/png": "[encoded data removed]",
      "text/plain": [
       "<Figure size 432x288 with 1 Axes>"
      ]
     },
     "metadata": {
      "needs_background": "light"
     },
     "output_type": "display_data"
    },
    {
     "data": {
      "image/png": "[encoded data removed]",
      "text/plain": [
       "<Figure size 432x288 with 2 Axes>"
      ]
     },
     "metadata": {
      "needs_background": "light"
     },
     "output_type": "display_data"
    }
   ],
   "source": [
    "#parameters of model\n",
    "\n",
    "num_input = 8\n",
    "num_hidden = 3\n",
    "num_output = 1\n",
    "learning_rate = 3\n",
    "\n",
    "patterns = np.round(np.random.rand(num_input,8))\n",
    "desired_output = output(patterns)\n",
    "\n",
    "#input to hidden units\n",
    "w_fg = wfg(num_hidden,num_input)\n",
    "#hidden units to output units\n",
    "w_gh = wgh(num_hidden,num_output)\n",
    "\n",
    "\n",
    "\n",
    "\n",
    "all_sse = []\n",
    "\n",
    "\n",
    "for epoch in range(1000):\n",
    "    output_errors = []\n",
    "    #loops through each pattern in \"patterns\" \n",
    "    for i in range(num_input):\n",
    "        input_to_hidden = np.dot(w_fg,patterns[i])\n",
    "        hidden_activation = activation_fn(input_to_hidden)\n",
    "        input_to_output = np.dot(w_gh,hidden_activation)\n",
    "        output_activation = activation_fn(input_to_output)\n",
    "        output_error = desired_output[i] - output_activation\n",
    "        output_errors.append(output_error)\n",
    "\n",
    "    # part g\n",
    "        term1 = learning_rate * (np.diag(activation_fn_derivative(input_to_hidden)) )\n",
    "        term2 = np.dot(np.array(w_gh).T,(np.diag(output_error)))\n",
    "        term3 = activation_fn_derivative(np.dot(w_gh,hidden_activation))\n",
    "        dw_fg = np.dot(np.array([patterns[i]]).T,np.array([np.dot(np.dot(term1,term2),term3)]))\n",
    "        w_fg = w_fg + dw_fg.T\n",
    "        \n",
    "        dw_gh = np.dot(np.array([learning_rate * (activation_fn_derivative(np.dot(w_gh , hidden_activation))) * output_error]).T , np.array([hidden_activation]))\n",
    "        w_gh = w_gh + dw_gh\n",
    "        \n",
    "        \n",
    "    sse_input_to_hidden = np.dot(w_fg,patterns)\n",
    "    sse_hidden_activation = activation_fn(sse_input_to_hidden)\n",
    "    sse_input_to_output = np.dot(w_gh,sse_hidden_activation)\n",
    "    sse_output_activation = activation_fn(sse_input_to_output)\n",
    "    sse_output_error = desired_output - sse_output_activation\n",
    "  \n",
    "    #sse = np.trace(np.dot(sse_output_error ,output_errors ))\n",
    "    sse = np.trace(sse_output_error * output_errors )\n",
    "    all_sse.append(sse)\n",
    "    \n",
    "    if epoch % 10 == 0:\n",
    "        print('Epoch:', epoch, '|| SSE:',sse)\n",
    "    \n",
    "    if sse < 0.01 :\n",
    "        print('Epoch:', epoch, 'SSE:', sse)\n",
    "        print(\"Training Complete\")\n",
    "        \n",
    "        plt.plot(range(epoch+1),all_sse,lw=2, color =\"#495e35\")\n",
    "        plt.title(\"SSE over Epochs\")\n",
    "        plt.xlabel(\"epochs\")\n",
    "        plt.ylabel(\"sse\")\n",
    "        plt.show()\n",
    "        \n",
    "\n",
    "        # Create a 1x2 subplot for displaying the images\n",
    "        fig, ax = plt.subplots(1, 2)\n",
    "\n",
    "        \n",
    "        #make 1D array into 2D matrix\n",
    "        desired_output_matrix = np.reshape(desired_output, (num_input, num_output))\n",
    "        \n",
    "        obtained_output = np.round(sse_output_activation)\n",
    "        obtained_output_matrix = np.reshape(obtained_output, (num_input, num_output))\n",
    "       \n",
    "        \n",
    "       # Display the desired output matrix in the first subplot\n",
    "        ax[0].set_title(\"Desired Output\")\n",
    "        ax[0].imshow(desired_output_matrix, cmap='PuBuGn', aspect='auto')\n",
    "\n",
    "        # Display the obtained output matrix in the second subplot\n",
    "        ax[1].set_title(\"Obtained Output\")\n",
    "        ax[1].imshow(obtained_output_matrix, cmap='PuBuGn', aspect='auto')\n",
    "        \n",
    "        \n",
    "        # Show the plot\n",
    "        plt.show()\n",
    "        break\n",
    "     \n",
    "    \n",
    "    if epoch == 999:\n",
    "        print(\"Broke without converging\")\n",
    "    \n",
    "    "
   ]
  },
  {
   "cell_type": "markdown",
   "id": "db9d9823",
   "metadata": {},
   "source": [
    "# "
   ]
  },
  {
   "cell_type": "code",
   "execution_count": 232,
   "id": "1cf9bc6e",
   "metadata": {},
   "outputs": [
    {
     "data": {
      "image/png": "[encoded data removed]",
      "text/plain": [
       "<Figure size 432x288 with 2 Axes>"
      ]
     },
     "metadata": {
      "needs_background": "light"
     },
     "output_type": "display_data"
    }
   ],
   "source": [
    "new_patterns = np.round(np.random.rand(num_input,8))\n",
    "new_desired_output = output(new_patterns)\n",
    "new_output_errors=[]\n",
    "new_all_sse = []\n",
    "new_out = []\n",
    "\n",
    "for i in range(num_input):\n",
    "    new_input_to_hidden = np.dot(w_fg,new_patterns[i])\n",
    "    new_hidden_activation = activation_fn(new_input_to_hidden)\n",
    "    new_input_to_output = np.dot(w_gh,new_hidden_activation)\n",
    "    new_output_activation = activation_fn(new_input_to_output)\n",
    "    new_out.append(new_output_activation)\n",
    "    new_output_error = new_desired_output[i] - new_output_activation\n",
    "    new_output_errors.append(new_output_error)\n",
    "    \n",
    "new_desired_output_matrix = np.reshape(new_desired_output, (num_input, num_output))\n",
    "new_obtained_output = np.round(new_out)\n",
    "new_obtained_output_matrix = np.reshape(new_obtained_output, (num_input, num_output))\n",
    "   \n",
    "fig, ax = plt.subplots(1, 2)\n",
    "\n",
    "ax[0].set_title(\"Desired Output\")\n",
    "ax[0].imshow(new_desired_output_matrix, cmap='PuBuGn', aspect='auto')\n",
    "\n",
    "ax[1].set_title(\"Obtained Output\")\n",
    "ax[1].imshow(new_obtained_output_matrix, cmap='PuBuGn', aspect='auto')\n",
    "        \n",
    "        \n",
    "# Show the plot\n",
    "plt.show()"
   ]
  },
  {
   "cell_type": "code",
   "execution_count": 234,
   "id": "41808ec6",
   "metadata": {},
   "outputs": [
    {
     "data": {
      "text/plain": [
       "[array([-0.04094634]),\n",
       " array([0.40824889]),\n",
       " array([-0.21076646]),\n",
       " array([-0.00415458]),\n",
       " array([-0.21076646]),\n",
       " array([-0.04559318]),\n",
       " array([-0.11353096]),\n",
       " array([-0.01869079])]"
      ]
     },
     "execution_count": 234,
     "metadata": {},
     "output_type": "execute_result"
    }
   ],
   "source": [
    "#error between the desired output of the system and obtained output\n",
    "\n",
    "new_output_errors"
   ]
  }
 ],
 "metadata": {
  "kernelspec": {
   "display_name": "Python 3 (ipykernel)",
   "language": "python",
   "name": "python3"
  },
  "language_info": {
   "codemirror_mode": {
    "name": "ipython",
    "version": 3
   },
   "file_extension": ".py",
   "mimetype": "text/x-python",
   "name": "python",
   "nbconvert_exporter": "python",
   "pygments_lexer": "ipython3",
   "version": "3.9.7"
  }
 },
 "nbformat": 4,
 "nbformat_minor": 5
}
