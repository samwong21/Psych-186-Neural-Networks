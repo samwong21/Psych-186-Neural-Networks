{
 "cells": [
  {
   "cell_type": "markdown",
   "id": "c77b318b",
   "metadata": {},
   "source": [
    "## Creating a Linear Associator"
   ]
  },
  {
   "cell_type": "markdown",
   "id": "94bf2da2",
   "metadata": {},
   "source": [
    "# "
   ]
  },
  {
   "cell_type": "markdown",
   "id": "b865dda8",
   "metadata": {},
   "source": [
    "# "
   ]
  },
  {
   "cell_type": "markdown",
   "id": "d4ae46b8",
   "metadata": {},
   "source": [
    "Many of the qualitative properties displayed by the linear \n",
    "associator are also shown by more complex neural models. While \n",
    "completing this assignment, pay attention to these properties and \n",
    "include your observations in your writeup"
   ]
  },
  {
   "cell_type": "code",
   "execution_count": 3,
   "id": "59360cf0",
   "metadata": {},
   "outputs": [],
   "source": [
    "import numpy as np\n",
    "import pandas as pd\n",
    "import random as rnd\n",
    "import math\n",
    "import statistics\n",
    "import matplotlib.pyplot as plt \n"
   ]
  },
  {
   "cell_type": "code",
   "execution_count": 4,
   "id": "67b1ff82",
   "metadata": {},
   "outputs": [],
   "source": [
    "def ran_vector(dim):\n",
    "    '''\n",
    "    Takes in a dimension and returns randomly generated unit vector of\n",
    "    th\n",
    "    at dimension from uniform distribution with mean 0.\n",
    "    \n",
    "    dim: number of dimensions for generated vectors\n",
    "    \n",
    "    returns:\n",
    "        a numpy array containing a randomly generated unit vector\n",
    "    '''\n",
    "    vec = []\n",
    "    for i in range(dim):\n",
    "            uni_x = rnd.random()\n",
    "            vec.append(uni_x)\n",
    "    array = np.array(vec)\n",
    "    \n",
    "    #make distribution mean 0 per hw directions\n",
    "    npvec = array - (np.mean(array))\n",
    "\n",
    "    #normalizes vector by dividing by vector length/magnitude\n",
    "    mag = math.sqrt(sum(npvec ** 2))\n",
    "    out = npvec / mag \n",
    "    return out"
   ]
  },
  {
   "cell_type": "code",
   "execution_count": 5,
   "id": "c67b5499",
   "metadata": {},
   "outputs": [],
   "source": [
    "def many_vec(n,dim):\n",
    "    '''\n",
    "    runs ran_vector many times\n",
    "    '''\n",
    "    out = []\n",
    "    for i in range(n):\n",
    "        x = ran_vector(dim)\n",
    "        out.append(x)\n",
    "    return out"
   ]
  },
  {
   "cell_type": "code",
   "execution_count": 6,
   "id": "8da98b84",
   "metadata": {},
   "outputs": [],
   "source": [
    "def dot(vec1,vec2):\n",
    "    out = []\n",
    "    for i in range(len(vec1)):\n",
    "        x = vec1[i] * vec2[i]\n",
    "        out.append(x)\n",
    "    return sum(out)"
   ]
  },
  {
   "cell_type": "code",
   "execution_count": 7,
   "id": "3c172550",
   "metadata": {},
   "outputs": [],
   "source": [
    "def length(vec):\n",
    "    '''\n",
    "    Computes the length of a vector.\n",
    "    \n",
    "    v: vector\n",
    "    return:\n",
    "        a float length of a vector\n",
    "    '''\n",
    "    mag = math.sqrt(sum(vec ** 2))\n",
    "    return mag\n",
    "    "
   ]
  },
  {
   "cell_type": "code",
   "execution_count": 117,
   "id": "4a52d350",
   "metadata": {},
   "outputs": [],
   "source": [
    "def find_lengths(x):\n",
    "    '''\n",
    "    uses length function on many vectors\n",
    "    '''\n",
    "    out = []\n",
    "    for i in range(len(x)):\n",
    "        s = length(x[i])\n",
    "        out.append(s)\n",
    "    return out"
   ]
  },
  {
   "cell_type": "code",
   "execution_count": 5,
   "id": "625d46e6",
   "metadata": {},
   "outputs": [],
   "source": [
    "def cos(a,b):\n",
    "    len_a = np.linalg.norm(a)\n",
    "    len_b = np.linalg.norm(b)\n",
    "    norm_a = a/len_a\n",
    "    norm_b = b/len_b\n",
    "    cos_angle = np.dot(norm_a,norm_b)\n",
    "    return cos_angle"
   ]
  },
  {
   "cell_type": "markdown",
   "id": "6951bbdc",
   "metadata": {},
   "source": [
    "# Problem 1"
   ]
  },
  {
   "cell_type": "code",
   "execution_count": 14,
   "id": "84b62d23",
   "metadata": {},
   "outputs": [],
   "source": [
    "#a)\n",
    "f = ran_vector(100)\n",
    "g = ran_vector(100)\n",
    "\n",
    "A = np.outer(g, f)"
   ]
  },
  {
   "cell_type": "markdown",
   "id": "5183b086",
   "metadata": {},
   "source": [
    "### AF"
   ]
  },
  {
   "cell_type": "code",
   "execution_count": 365,
   "id": "2558f78e",
   "metadata": {},
   "outputs": [],
   "source": [
    "Af = A.dot(f)"
   ]
  },
  {
   "cell_type": "code",
   "execution_count": 8,
   "id": "282ec353",
   "metadata": {},
   "outputs": [
    {
     "data": {
      "text/plain": [
       "1.0"
      ]
     },
     "execution_count": 8,
     "metadata": {},
     "output_type": "execute_result"
    }
   ],
   "source": [
    "cos(Af,g)"
   ]
  },
  {
   "cell_type": "code",
   "execution_count": 9,
   "id": "90cc1daf",
   "metadata": {},
   "outputs": [
    {
     "data": {
      "text/plain": [
       "0.9999999999999998"
      ]
     },
     "execution_count": 9,
     "metadata": {},
     "output_type": "execute_result"
    }
   ],
   "source": [
    "length(Af)"
   ]
  },
  {
   "cell_type": "markdown",
   "id": "118a50ac",
   "metadata": {},
   "source": [
    "### 1e)\n",
    "Because both the the cosine between g and gprime(Af) and the length of gprime equal 1, then g and gprime are in the same direction"
   ]
  },
  {
   "cell_type": "markdown",
   "id": "96a4a231",
   "metadata": {},
   "source": [
    "# Problem 2"
   ]
  },
  {
   "cell_type": "code",
   "execution_count": 362,
   "id": "93f4a898",
   "metadata": {},
   "outputs": [],
   "source": [
    "# 2a)\n",
    "fprime = ran_vector(100)"
   ]
  },
  {
   "cell_type": "code",
   "execution_count": 73,
   "id": "d712d0b7",
   "metadata": {},
   "outputs": [
    {
     "data": {
      "text/plain": [
       "-0.046425358157704336"
      ]
     },
     "execution_count": 73,
     "metadata": {},
     "output_type": "execute_result"
    }
   ],
   "source": [
    "# find cosine of f and f prime\n",
    "cos(f,fprime)"
   ]
  },
  {
   "cell_type": "code",
   "execution_count": 12,
   "id": "e404faee",
   "metadata": {},
   "outputs": [],
   "source": [
    "def f_dims(dim):\n",
    "    cos_dim = []\n",
    "    for i in dim:\n",
    "        f = ran_vector(i)\n",
    "        fprime = ran_vector(i)\n",
    "        x = cos(f,fprime)\n",
    "        cos_dim.append(x)\n",
    "    return cos_dim"
   ]
  },
  {
   "cell_type": "code",
   "execution_count": 13,
   "id": "9cb81c6a",
   "metadata": {},
   "outputs": [
    {
     "data": {
      "text/plain": [
       "[0.13153973929943513,\n",
       " 0.00400086846827797,\n",
       " -0.0017365032995895467,\n",
       " 0.0016946559272500916,\n",
       " -0.0004778419101518176]"
      ]
     },
     "execution_count": 13,
     "metadata": {},
     "output_type": "execute_result"
    }
   ],
   "source": [
    "#As the dimension increases, the cosine between f and fprime gets closer to 0, which means the two vectors are orthogonal.\n",
    "f_dims([100,1000,10000,50000,1000000])\n"
   ]
  },
  {
   "cell_type": "code",
   "execution_count": 366,
   "id": "ab30dbf3",
   "metadata": {},
   "outputs": [],
   "source": [
    "Afprime = A.dot(fprime)"
   ]
  },
  {
   "cell_type": "code",
   "execution_count": 367,
   "id": "cc2937bc",
   "metadata": {},
   "outputs": [
    {
     "data": {
      "text/plain": [
       "0.0003117433586390035"
      ]
     },
     "execution_count": 367,
     "metadata": {},
     "output_type": "execute_result"
    }
   ],
   "source": [
    "length(Afprime)"
   ]
  },
  {
   "cell_type": "markdown",
   "id": "0973f333",
   "metadata": {},
   "source": [
    "### 2e) f and fprime are about orthogonal  because the cosine of the angle between them is about zero"
   ]
  },
  {
   "cell_type": "markdown",
   "id": "eeb7850e",
   "metadata": {},
   "source": [
    "### Question: why is it 1?"
   ]
  },
  {
   "cell_type": "markdown",
   "id": "126fbb07",
   "metadata": {},
   "source": [
    "# Problem 3"
   ]
  },
  {
   "cell_type": "code",
   "execution_count": 1,
   "id": "822d217e",
   "metadata": {},
   "outputs": [],
   "source": [
    "\n",
    "def simulation(num_vectors,dim):\n",
    "    fi = many_vec(num_vectors,dim)\n",
    "    gi = many_vec(num_vectors,dim)\n",
    "    fi = fi / np.linalg.norm(fi, axis=1)[:, np.newaxis]\n",
    "    gi = gi / np.linalg.norm(gi, axis=1)[:, np.newaxis]\n",
    "\n",
    "    # (b) Compute the outer product matrices, Ai = gifiT\n",
    "    Ai = np.array([np.outer(gi[i], fi[i]) for i in range(num_vectors)])\n",
    "\n",
    "    # (c) Form the overall connectivity matrix, A, as the sum of the individual outer product matrices\n",
    "    A = np.sum(Ai, axis=0)\n",
    "\n",
    "    # (d) Test the resulting matrix A\n",
    "    # (i) Compute the predicted output, g', for each stored input, fi using A\n",
    "    g_prime = np.dot(A, fi.T).T\n",
    "\n",
    "    #(ii)\n",
    "    cosine = cos(g_pred,gi.T)\n",
    "\n",
    "    # (iii) Compute the length of the output vector, g’.\n",
    "    g_prime_length = find_lengths(g_prime)\n",
    "    gi_length = find_lengths(gi)\n",
    "\n",
    "    # (iv) Test the selectivity of the system by generating a new set of 50 random vectors, let’s call them hi, and computing the predicted outputs (hi’) using the A matrix you constructed above (i.e., find the matrix product between each hi vector and A: Ahi).\n",
    "    hi = np.random.randn(num_vectors, dim)\n",
    "    hi = hi / np.linalg.norm(hi, axis=1, keepdims=True)\n",
    "\n",
    "    hi_prime = np.dot(hi, A)\n",
    "    length_hi_pred = np.linalg.norm(hi_prime, axis=1)\n",
    "    length_gi = np.linalg.norm(gi, axis=1)\n",
    "    \n",
    "    \n",
    "    print(\"Average length of hi':\", np.mean(length_hi_pred))\n",
    "    print(\"Average length of gi:\", np.mean(length_gi))\n",
    "    print(\"Average cosine:\", np.mean(cosine))\n"
   ]
  },
  {
   "cell_type": "code",
   "execution_count": 368,
   "id": "36086f77",
   "metadata": {},
   "outputs": [
    {
     "name": "stdout",
     "output_type": "stream",
     "text": [
      "Average length of hi': 2.235754255689643\n",
      "Average length of gi: 1.0\n",
      "Average cosine: 8.394403263884736e-06\n"
     ]
    }
   ],
   "source": [
    "\n",
    "simulation(500,100)"
   ]
  },
  {
   "cell_type": "code",
   "execution_count": 369,
   "id": "45a139ca",
   "metadata": {},
   "outputs": [
    {
     "data": {
      "image/png": "[encoded data removed]",
      "text/plain": [
       "<Figure size 432x288 with 1 Axes>"
      ]
     },
     "metadata": {
      "needs_background": "light"
     },
     "output_type": "display_data"
    }
   ],
   "source": [
    "plt.hist(length_hi_pred,bins = 50)\n",
    "plt.show()"
   ]
  },
  {
   "cell_type": "markdown",
   "id": "f0ab292a",
   "metadata": {},
   "source": [
    "# part 3e\n"
   ]
  },
  {
   "cell_type": "code",
   "execution_count": 351,
   "id": "44729602",
   "metadata": {
    "scrolled": true
   },
   "outputs": [
    {
     "name": "stdout",
     "output_type": "stream",
     "text": [
      "Average length of hi': 0.11513033498962495\n",
      "Average length of gi: 1.0\n",
      "Average cosine: 0.003268910842039627\n"
     ]
    }
   ],
   "source": [
    "simulation(1,100)"
   ]
  },
  {
   "cell_type": "code",
   "execution_count": 352,
   "id": "39b18239",
   "metadata": {},
   "outputs": [
    {
     "name": "stdout",
     "output_type": "stream",
     "text": [
      "Average length of hi': 0.42733432109824465\n",
      "Average length of gi: 1.0\n",
      "Average cosine: -0.00011633086279182909\n"
     ]
    }
   ],
   "source": [
    "simulation(20,100)"
   ]
  },
  {
   "cell_type": "code",
   "execution_count": 353,
   "id": "f33f5c47",
   "metadata": {},
   "outputs": [
    {
     "name": "stdout",
     "output_type": "stream",
     "text": [
      "Average length of hi': 0.7759600334274647\n",
      "Average length of gi: 1.0\n",
      "Average cosine: -3.1363267702749497e-06\n"
     ]
    }
   ],
   "source": [
    "simulation(60,100)"
   ]
  },
  {
   "cell_type": "code",
   "execution_count": 354,
   "id": "872a2b04",
   "metadata": {},
   "outputs": [
    {
     "name": "stdout",
     "output_type": "stream",
     "text": [
      "Average length of hi': 0.8793656802095782\n",
      "Average length of gi: 1.0\n",
      "Average cosine: 5.6111762816955224e-05\n"
     ]
    }
   ],
   "source": [
    "simulation(80,100)"
   ]
  },
  {
   "cell_type": "markdown",
   "id": "21618ba7",
   "metadata": {},
   "source": [
    "# Problem 4"
   ]
  },
  {
   "cell_type": "code",
   "execution_count": 355,
   "id": "2202ad0e",
   "metadata": {},
   "outputs": [],
   "source": [
    "def simulation2(num_vectors,dim):\n",
    "    fi = many_vec(num_vectors,dim)\n",
    "    gi = many_vec(num_vectors,dim)\n",
    "    fi = fi / np.linalg.norm(fi, axis=1)[:, np.newaxis]\n",
    "    gi = gi / np.linalg.norm(gi, axis=1)[:, np.newaxis]\n",
    "\n",
    "    # (b) Compute the outer product matrices, Ai = gifiT\n",
    "    Ai = np.array([np.outer(gi[i], fi[i]) for i in range(num_vectors)])\n",
    "\n",
    "    # (c) Form the overall connectivity matrix, A, as the sum of the individual outer product matrices\n",
    "    A = np.sum(Ai, axis=0)\n",
    "\n",
    "    # (d) Test the resulting matrix A\n",
    "    # (i) Compute the predicted output, g', for each stored input, fi using A\n",
    "    g_prime = np.dot(A, fi.T).T\n",
    "\n",
    "    #(ii)\n",
    "    cosine = cos(g_pred,gi.T)\n",
    "\n",
    "    # (iii) Compute the length of the output vector, g’.\n",
    "    g_prime_length = find_lengths(g_prime)\n",
    "    gi_length = find_lengths(gi)\n",
    "\n",
    "    # (iv) Test the selectivity of the system by generating a new set of 50 random vectors, let’s call them hi, and computing the predicted outputs (hi’) using the A matrix you constructed above (i.e., find the matrix product between each hi vector and A: Ahi).\n",
    "    hi = np.random.randn(num_vectors, dim)\n",
    "    hi = hi / np.linalg.norm(hi, axis=1, keepdims=True)\n",
    "\n",
    "    hi_prime = np.dot(hi, A)\n",
    "    length_hi_pred = np.linalg.norm(hi_prime, axis=1)\n",
    "    length_gi = np.linalg.norm(gi, axis=1)\n",
    "    \n",
    "    \n",
    "    print(\"Average length of hi':\", np.mean(length_hi_pred))\n",
    "    print(\"Average length of gi:\", np.mean(length_gi))\n",
    "    return fi,gi, A , g_prime, cosine\n",
    "\n"
   ]
  },
  {
   "cell_type": "code",
   "execution_count": 356,
   "id": "393f4bf0",
   "metadata": {},
   "outputs": [],
   "source": [
    "def ablation(fi,gi,A,dim,num_ablations):\n",
    "    for i in range(num_ablations):\n",
    "        idx = np.random.randint(dim)\n",
    "        idy = np.random.randint(dim)\n",
    "        A[idx, idy] = 0\n",
    "    \n",
    "    g_prime_ablated = np.dot(A, fi)\n",
    "\n",
    "    cos_ablated = cos(g_prime_ablated,gi)\n",
    "    #np.dot(g_prime_ablated, gi) / (np.linalg.norm(g_pred_ablated) * np.linalg.norm(gi))\n",
    "    return cos_ablated"
   ]
  },
  {
   "cell_type": "code",
   "execution_count": 357,
   "id": "4b1fe79c",
   "metadata": {},
   "outputs": [
    {
     "name": "stdout",
     "output_type": "stream",
     "text": [
      "Average length of hi': 1.002729357407698\n",
      "Average length of gi: 1.0\n"
     ]
    }
   ],
   "source": [
    "# normal A\n",
    "fi1,gi1,A1,g_prime1,cosine_gi = simulation2(100,100)"
   ]
  },
  {
   "cell_type": "code",
   "execution_count": 371,
   "id": "b95616be",
   "metadata": {},
   "outputs": [
    {
     "data": {
      "text/plain": [
       "-3.771221195361438e-05"
      ]
     },
     "execution_count": 371,
     "metadata": {},
     "output_type": "execute_result"
    }
   ],
   "source": [
    "np.mean(cosine_gi)"
   ]
  },
  {
   "cell_type": "code",
   "execution_count": 358,
   "id": "92f9600a",
   "metadata": {},
   "outputs": [],
   "source": [
    "cos_ablated = ablation(fi1,gi1,A1,100,10)"
   ]
  },
  {
   "cell_type": "code",
   "execution_count": 359,
   "id": "aa0d33f8",
   "metadata": {},
   "outputs": [
    {
     "data": {
      "text/plain": [
       "2.0383000842727484e-21"
      ]
     },
     "execution_count": 359,
     "metadata": {},
     "output_type": "execute_result"
    }
   ],
   "source": [
    "np.mean(cos_ablated)"
   ]
  },
  {
   "cell_type": "code",
   "execution_count": 11,
   "id": "d758d536",
   "metadata": {},
   "outputs": [],
   "source": [
    "\n",
    "fi = f / np.linalg.norm(f, axis=1)[:, np.newaxis]\n",
    "gi = g / np.linalg.norm(g, axis=1)[:, np.newaxis]"
   ]
  },
  {
   "cell_type": "code",
   "execution_count": 20,
   "id": "f69107a2",
   "metadata": {},
   "outputs": [
    {
     "data": {
      "text/plain": [
       "array([-0.15315591,  0.06941098,  0.08807675, -0.03773783,  0.0956544 ,\n",
       "       -0.15591544,  0.08651415,  0.04044791, -0.02187383, -0.11136061,\n",
       "       -0.09327441,  0.07071151,  0.14409681,  0.00983706, -0.01186194,\n",
       "        0.02886557,  0.11851815, -0.00087405, -0.10891151,  0.12894602,\n",
       "       -0.118704  ,  0.04465205, -0.05365825, -0.21817349,  0.0389496 ,\n",
       "        0.09826766,  0.05348287,  0.00082162,  0.01963118, -0.00322311,\n",
       "       -0.14355992,  0.10751018, -0.01152217,  0.12395863, -0.08100829,\n",
       "       -0.08747844,  0.07940631,  0.07330099, -0.13778772,  0.06854847,\n",
       "        0.08562799,  0.13142409, -0.0049632 ,  0.15463302, -0.11419542,\n",
       "       -0.01714239, -0.03380438, -0.05592824, -0.14505042,  0.00504078,\n",
       "        0.03405776, -0.1974464 , -0.00802118,  0.10141982, -0.08078886,\n",
       "        0.08574822,  0.1372605 ,  0.031248  , -0.17230081,  0.095548  ,\n",
       "        0.03600183,  0.06999967, -0.04628266, -0.04207477, -0.03457861,\n",
       "        0.08216402, -0.05193078,  0.09394248,  0.07882874,  0.02763385,\n",
       "       -0.01269919, -0.15000887,  0.11443032,  0.07373951,  0.07720248,\n",
       "       -0.14948509,  0.15323523, -0.13815425, -0.2088341 , -0.16276468,\n",
       "       -0.07831744,  0.16796948,  0.09593563,  0.09531873, -0.08426308,\n",
       "        0.03580325,  0.10381402,  0.05567921,  0.1544863 ,  0.00070379,\n",
       "        0.14559403, -0.15285962, -0.14537287, -0.12233094,  0.11686318,\n",
       "       -0.06820524, -0.08985273,  0.01223157,  0.0005219 , -0.1259791 ])"
      ]
     },
     "execution_count": 20,
     "metadata": {},
     "output_type": "execute_result"
    }
   ],
   "source": [
    "np.dot(A,f)"
   ]
  },
  {
   "cell_type": "code",
   "execution_count": 21,
   "id": "6304a8af",
   "metadata": {},
   "outputs": [
    {
     "data": {
      "text/plain": [
       "array([[-3.16703316e-04,  1.43531438e-04,  1.82129437e-04, ...,\n",
       "         2.52930479e-05,  1.07921885e-06, -2.60505789e-04],\n",
       "       [ 4.86737564e-03, -2.20591761e-03, -2.79912568e-03, ...,\n",
       "        -3.88725848e-04, -1.65863864e-05,  4.00368253e-03],\n",
       "       [-6.83260814e-03,  3.09657025e-03,  3.92928969e-03, ...,\n",
       "         5.45676272e-04,  2.32832407e-05, -5.62019368e-03],\n",
       "       ...,\n",
       "       [ 2.19901671e-02, -9.96604750e-03, -1.26460840e-02, ...,\n",
       "        -1.75621259e-03, -7.49351261e-05,  1.80881145e-02],\n",
       "       [-1.46180701e-02,  6.62497836e-03,  8.40654563e-03, ...,\n",
       "         1.16745082e-03,  4.98134881e-05, -1.20241617e-02],\n",
       "       [-5.26787352e-03,  2.38742514e-03,  3.02944361e-03, ...,\n",
       "         4.20711026e-04,  1.79511490e-05, -4.33311392e-03]])"
      ]
     },
     "execution_count": 21,
     "metadata": {},
     "output_type": "execute_result"
    }
   ],
   "source": [
    "np.dot(A, fi.T).T"
   ]
  }
 ],
 "metadata": {
  "kernelspec": {
   "display_name": "Python 3 (ipykernel)",
   "language": "python",
   "name": "python3"
  },
  "language_info": {
   "codemirror_mode": {
    "name": "ipython",
    "version": 3
   },
   "file_extension": ".py",
   "mimetype": "text/x-python",
   "name": "python",
   "nbconvert_exporter": "python",
   "pygments_lexer": "ipython3",
   "version": "3.9.7"
  }
 },
 "nbformat": 4,
 "nbformat_minor": 5
}
